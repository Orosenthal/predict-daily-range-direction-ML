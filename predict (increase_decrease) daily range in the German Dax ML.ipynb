{
 "cells": [
  {
   "cell_type": "code",
   "execution_count": 1,
   "metadata": {},
   "outputs": [],
   "source": [
    "import pandas as pd\n",
    "import numpy as np\n",
    "from pandas_datareader import data as web\n",
    "import yfinance as yf\n",
    "from datetime import datetime \n",
    "from sklearn.model_selection import train_test_split\n",
    "from sklearn.ensemble import RandomForestClassifier, GradientBoostingClassifier\n",
    "from sklearn.preprocessing import StandardScaler, normalize, MinMaxScaler\n",
    "from sklearn.linear_model import LogisticRegression\n",
    "from sklearn.model_selection import GridSearchCV, KFold\n",
    "from sklearn.neural_network import MLPClassifier\n",
    "from sklearn.naive_bayes import GaussianNB\n",
    "from sklearn import svm\n",
    "from sklearn.metrics import accuracy_score,log_loss, precision_score, roc_curve\n",
    "from sklearn.tree import DecisionTreeClassifier\n",
    "from sklearn.neighbors import KNeighborsClassifier\n",
    "import matplotlib.pyplot as plt\n",
    "%matplotlib inline\n",
    "\n",
    "plt.style.use('fivethirtyeight')"
   ]
  },
  {
   "cell_type": "code",
   "execution_count": 2,
   "metadata": {},
   "outputs": [],
   "source": [
    "symbol = '^GDAXI' # German Dax stock market index\n",
    "# Downloading Symbol history\n",
    "start = pd.datetime(2010,1,1) # Year, Month, Day\n",
    "end = pd.datetime.now() # Until today date\n",
    "data = yf.download(symbol, start=start, end=end, progress=False)[['High','Low']].round(2)"
   ]
  },
  {
   "cell_type": "code",
   "execution_count": 3,
   "metadata": {},
   "outputs": [
    {
     "data": {
      "text/html": [
       "<div>\n",
       "<style scoped>\n",
       "    .dataframe tbody tr th:only-of-type {\n",
       "        vertical-align: middle;\n",
       "    }\n",
       "\n",
       "    .dataframe tbody tr th {\n",
       "        vertical-align: top;\n",
       "    }\n",
       "\n",
       "    .dataframe thead th {\n",
       "        text-align: right;\n",
       "    }\n",
       "</style>\n",
       "<table border=\"1\" class=\"dataframe\">\n",
       "  <thead>\n",
       "    <tr style=\"text-align: right;\">\n",
       "      <th></th>\n",
       "      <th>High</th>\n",
       "      <th>Low</th>\n",
       "    </tr>\n",
       "    <tr>\n",
       "      <th>Date</th>\n",
       "      <th></th>\n",
       "      <th></th>\n",
       "    </tr>\n",
       "  </thead>\n",
       "  <tbody>\n",
       "    <tr>\n",
       "      <th>2010-01-04</th>\n",
       "      <td>6048.30</td>\n",
       "      <td>5974.43</td>\n",
       "    </tr>\n",
       "    <tr>\n",
       "      <th>2010-01-05</th>\n",
       "      <td>6058.02</td>\n",
       "      <td>6015.67</td>\n",
       "    </tr>\n",
       "    <tr>\n",
       "      <th>2010-01-06</th>\n",
       "      <td>6047.57</td>\n",
       "      <td>5997.09</td>\n",
       "    </tr>\n",
       "    <tr>\n",
       "      <th>2010-01-07</th>\n",
       "      <td>6037.57</td>\n",
       "      <td>5961.25</td>\n",
       "    </tr>\n",
       "    <tr>\n",
       "      <th>2010-01-08</th>\n",
       "      <td>6053.04</td>\n",
       "      <td>5972.24</td>\n",
       "    </tr>\n",
       "  </tbody>\n",
       "</table>\n",
       "</div>"
      ],
      "text/plain": [
       "               High      Low\n",
       "Date                        \n",
       "2010-01-04  6048.30  5974.43\n",
       "2010-01-05  6058.02  6015.67\n",
       "2010-01-06  6047.57  5997.09\n",
       "2010-01-07  6037.57  5961.25\n",
       "2010-01-08  6053.04  5972.24"
      ]
     },
     "execution_count": 3,
     "metadata": {},
     "output_type": "execute_result"
    }
   ],
   "source": [
    "data.head() # Frist 5 rows of the dataset"
   ]
  },
  {
   "cell_type": "code",
   "execution_count": 4,
   "metadata": {},
   "outputs": [
    {
     "data": {
      "text/html": [
       "<div>\n",
       "<style scoped>\n",
       "    .dataframe tbody tr th:only-of-type {\n",
       "        vertical-align: middle;\n",
       "    }\n",
       "\n",
       "    .dataframe tbody tr th {\n",
       "        vertical-align: top;\n",
       "    }\n",
       "\n",
       "    .dataframe thead th {\n",
       "        text-align: right;\n",
       "    }\n",
       "</style>\n",
       "<table border=\"1\" class=\"dataframe\">\n",
       "  <thead>\n",
       "    <tr style=\"text-align: right;\">\n",
       "      <th></th>\n",
       "      <th>High</th>\n",
       "      <th>Low</th>\n",
       "      <th>H-L</th>\n",
       "      <th>HL_Sign</th>\n",
       "    </tr>\n",
       "    <tr>\n",
       "      <th>Date</th>\n",
       "      <th></th>\n",
       "      <th></th>\n",
       "      <th></th>\n",
       "      <th></th>\n",
       "    </tr>\n",
       "  </thead>\n",
       "  <tbody>\n",
       "    <tr>\n",
       "      <th>2010-01-04</th>\n",
       "      <td>6048.30</td>\n",
       "      <td>5974.43</td>\n",
       "      <td>73.87</td>\n",
       "      <td>-1</td>\n",
       "    </tr>\n",
       "    <tr>\n",
       "      <th>2010-01-05</th>\n",
       "      <td>6058.02</td>\n",
       "      <td>6015.67</td>\n",
       "      <td>42.35</td>\n",
       "      <td>1</td>\n",
       "    </tr>\n",
       "    <tr>\n",
       "      <th>2010-01-06</th>\n",
       "      <td>6047.57</td>\n",
       "      <td>5997.09</td>\n",
       "      <td>50.48</td>\n",
       "      <td>1</td>\n",
       "    </tr>\n",
       "    <tr>\n",
       "      <th>2010-01-07</th>\n",
       "      <td>6037.57</td>\n",
       "      <td>5961.25</td>\n",
       "      <td>76.32</td>\n",
       "      <td>1</td>\n",
       "    </tr>\n",
       "    <tr>\n",
       "      <th>2010-01-08</th>\n",
       "      <td>6053.04</td>\n",
       "      <td>5972.24</td>\n",
       "      <td>80.80</td>\n",
       "      <td>-1</td>\n",
       "    </tr>\n",
       "  </tbody>\n",
       "</table>\n",
       "</div>"
      ],
      "text/plain": [
       "               High      Low    H-L  HL_Sign\n",
       "Date                                        \n",
       "2010-01-04  6048.30  5974.43  73.87       -1\n",
       "2010-01-05  6058.02  6015.67  42.35        1\n",
       "2010-01-06  6047.57  5997.09  50.48        1\n",
       "2010-01-07  6037.57  5961.25  76.32        1\n",
       "2010-01-08  6053.04  5972.24  80.80       -1"
      ]
     },
     "execution_count": 4,
     "metadata": {},
     "output_type": "execute_result"
    }
   ],
   "source": [
    "# Calculate Intraday High minus Low, Daily difference (positive/negative)\n",
    "data['H-L'] = data.High - data.Low\n",
    "# HL_Sign check if tomorrow daily range(H-L) is greater the today daily range (H-L).will use it as a target cell in the ML test. \n",
    "data['HL_Sign'] = np.where(data['H-L'].shift(-1) > data['H-L'],1,-1)\n",
    "\n",
    "data.dropna(inplace=True)\n",
    "data.head()"
   ]
  },
  {
   "cell_type": "code",
   "execution_count": 5,
   "metadata": {},
   "outputs": [
    {
     "data": {
      "text/html": [
       "<div>\n",
       "<style scoped>\n",
       "    .dataframe tbody tr th:only-of-type {\n",
       "        vertical-align: middle;\n",
       "    }\n",
       "\n",
       "    .dataframe tbody tr th {\n",
       "        vertical-align: top;\n",
       "    }\n",
       "\n",
       "    .dataframe thead th {\n",
       "        text-align: right;\n",
       "    }\n",
       "</style>\n",
       "<table border=\"1\" class=\"dataframe\">\n",
       "  <thead>\n",
       "    <tr style=\"text-align: right;\">\n",
       "      <th></th>\n",
       "      <th>High</th>\n",
       "      <th>Low</th>\n",
       "      <th>H-L</th>\n",
       "      <th>HL_Sign</th>\n",
       "      <th>lag_0</th>\n",
       "      <th>lag_1</th>\n",
       "      <th>lag_2</th>\n",
       "      <th>lag_3</th>\n",
       "      <th>lag_4</th>\n",
       "    </tr>\n",
       "    <tr>\n",
       "      <th>Date</th>\n",
       "      <th></th>\n",
       "      <th></th>\n",
       "      <th></th>\n",
       "      <th></th>\n",
       "      <th></th>\n",
       "      <th></th>\n",
       "      <th></th>\n",
       "      <th></th>\n",
       "      <th></th>\n",
       "    </tr>\n",
       "  </thead>\n",
       "  <tbody>\n",
       "    <tr>\n",
       "      <th>2010-01-08</th>\n",
       "      <td>6053.04</td>\n",
       "      <td>5972.24</td>\n",
       "      <td>80.80</td>\n",
       "      <td>-1</td>\n",
       "      <td>80.80</td>\n",
       "      <td>76.32</td>\n",
       "      <td>50.48</td>\n",
       "      <td>42.35</td>\n",
       "      <td>73.87</td>\n",
       "    </tr>\n",
       "    <tr>\n",
       "      <th>2010-01-11</th>\n",
       "      <td>6094.26</td>\n",
       "      <td>6031.14</td>\n",
       "      <td>63.12</td>\n",
       "      <td>1</td>\n",
       "      <td>63.12</td>\n",
       "      <td>80.80</td>\n",
       "      <td>76.32</td>\n",
       "      <td>50.48</td>\n",
       "      <td>42.35</td>\n",
       "    </tr>\n",
       "    <tr>\n",
       "      <th>2010-01-12</th>\n",
       "      <td>6055.56</td>\n",
       "      <td>5924.72</td>\n",
       "      <td>130.84</td>\n",
       "      <td>-1</td>\n",
       "      <td>130.84</td>\n",
       "      <td>63.12</td>\n",
       "      <td>80.80</td>\n",
       "      <td>76.32</td>\n",
       "      <td>50.48</td>\n",
       "    </tr>\n",
       "    <tr>\n",
       "      <th>2010-01-13</th>\n",
       "      <td>5974.44</td>\n",
       "      <td>5925.24</td>\n",
       "      <td>49.20</td>\n",
       "      <td>1</td>\n",
       "      <td>49.20</td>\n",
       "      <td>130.84</td>\n",
       "      <td>63.12</td>\n",
       "      <td>80.80</td>\n",
       "      <td>76.32</td>\n",
       "    </tr>\n",
       "    <tr>\n",
       "      <th>2010-01-14</th>\n",
       "      <td>6009.91</td>\n",
       "      <td>5951.69</td>\n",
       "      <td>58.22</td>\n",
       "      <td>1</td>\n",
       "      <td>58.22</td>\n",
       "      <td>49.20</td>\n",
       "      <td>130.84</td>\n",
       "      <td>63.12</td>\n",
       "      <td>80.80</td>\n",
       "    </tr>\n",
       "  </tbody>\n",
       "</table>\n",
       "</div>"
      ],
      "text/plain": [
       "               High      Low     H-L  HL_Sign   lag_0   lag_1   lag_2  lag_3  \\\n",
       "Date                                                                           \n",
       "2010-01-08  6053.04  5972.24   80.80       -1   80.80   76.32   50.48  42.35   \n",
       "2010-01-11  6094.26  6031.14   63.12        1   63.12   80.80   76.32  50.48   \n",
       "2010-01-12  6055.56  5924.72  130.84       -1  130.84   63.12   80.80  76.32   \n",
       "2010-01-13  5974.44  5925.24   49.20        1   49.20  130.84   63.12  80.80   \n",
       "2010-01-14  6009.91  5951.69   58.22        1   58.22   49.20  130.84  63.12   \n",
       "\n",
       "            lag_4  \n",
       "Date               \n",
       "2010-01-08  73.87  \n",
       "2010-01-11  42.35  \n",
       "2010-01-12  50.48  \n",
       "2010-01-13  76.32  \n",
       "2010-01-14  80.80  "
      ]
     },
     "execution_count": 5,
     "metadata": {},
     "output_type": "execute_result"
    }
   ],
   "source": [
    "# Creating new 5-lag columns with lag (for Daily (High-Low) difference from day to day) to be in the same line  \n",
    "lags = 5\n",
    "cols = []\n",
    "for lag in range(0, lags):\n",
    "    col = 'lag_%s' % lag\n",
    "    data[col] = data['H-L'].shift(lag)\n",
    "    cols.append(col)\n",
    "\n",
    "data.dropna(inplace=True)\n",
    "data.head()"
   ]
  },
  {
   "cell_type": "code",
   "execution_count": 6,
   "metadata": {},
   "outputs": [],
   "source": [
    "# Standardization features with subtraction of the mean and then dividing by its standard deviation\n",
    "scale = StandardScaler()\n",
    "data[cols] =scale.fit_transform(data[cols])"
   ]
  },
  {
   "cell_type": "code",
   "execution_count": 7,
   "metadata": {},
   "outputs": [],
   "source": [
    "# Split the dataset to X(features) and y(target) before assigning the train and test data.  \n",
    "X = data[cols]\n",
    "y = data['HL_Sign']"
   ]
  },
  {
   "cell_type": "code",
   "execution_count": 8,
   "metadata": {},
   "outputs": [],
   "source": [
    "# Split the data to train/test. We will train 0.7  * length and test our Classifier on the rest (the test data). \n",
    "X_train, X_test, y_train, y_test = train_test_split(X, y, test_size=0.3, random_state=1)"
   ]
  },
  {
   "cell_type": "code",
   "execution_count": 9,
   "metadata": {},
   "outputs": [],
   "source": [
    "# Create a model dictionary (model_dic) with keys as diffrent ML Classifiers. \n",
    "model_dic = {}\n",
    "\n",
    "# fitting the model and getting the score insample for train data\n",
    "model_dic['Svm'] = [svm.SVC(gamma='scale').fit(X_train,y_train).score(X_test,y_test),\n",
    "                    svm.SVC(gamma='scale').fit(X_train,y_train).predict(X_test)]\n",
    "\n",
    "model_dic['Logistic Regression'] = [LogisticRegression(solver='lbfgs').fit(X_train,y_train).score(X_test,y_test),\n",
    "                                   LogisticRegression(solver='lbfgs').fit(X_train,y_train).predict(X_test)]\n",
    "\n",
    "model_dic['Random Forest'] = [RandomForestClassifier(n_estimators=100).fit(X_train,y_train).score(X_test,y_test),\n",
    "                              RandomForestClassifier(n_estimators=100).fit(X_train,y_train).predict(X_test)]\n",
    "\n",
    "model_dic['Gradient Boosting'] = [GradientBoostingClassifier().fit(X_train,y_train).score(X_test,y_test),\n",
    "                                  GradientBoostingClassifier().fit(X_train,y_train).predict(X_test)]\n",
    "\n",
    "model_dic['Gaussian NB'] =  [GaussianNB().fit(X_train,y_train).score(X_test,y_test),\n",
    "                             GaussianNB().fit(X_train,y_train).predict(X_test)]\n",
    "\n",
    "model_dic['K-Neighbors'] =  [KNeighborsClassifier(n_neighbors=30).fit(X_train,y_train).score(X_test,y_test),\n",
    "                             KNeighborsClassifier(n_neighbors=30).fit(X_train,y_train).predict(X_test)]"
   ]
  },
  {
   "cell_type": "code",
   "execution_count": 10,
   "metadata": {},
   "outputs": [
    {
     "data": {
      "text/html": [
       "<style  type=\"text/css\" >\n",
       "    #T_815c6026_f2b9_11e9_b152_50e549ebce80row0_col2 {\n",
       "            background-color:  lightgreen;\n",
       "            : ;\n",
       "        }    #T_815c6026_f2b9_11e9_b152_50e549ebce80row0_col4 {\n",
       "            : ;\n",
       "            background-color:  #cd4f39;\n",
       "        }</style><table id=\"T_815c6026_f2b9_11e9_b152_50e549ebce80\" ><thead>    <tr>        <th class=\"blank level0\" ></th>        <th class=\"col_heading level0 col0\" >Svm</th>        <th class=\"col_heading level0 col1\" >Logistic Regression</th>        <th class=\"col_heading level0 col2\" >Random Forest</th>        <th class=\"col_heading level0 col3\" >Gradient Boosting</th>        <th class=\"col_heading level0 col4\" >Gaussian NB</th>        <th class=\"col_heading level0 col5\" >K-Neighbors</th>    </tr></thead><tbody>\n",
       "                <tr>\n",
       "                        <th id=\"T_815c6026_f2b9_11e9_b152_50e549ebce80level0_row0\" class=\"row_heading level0 row0\" >Accuracy Score</th>\n",
       "                        <td id=\"T_815c6026_f2b9_11e9_b152_50e549ebce80row0_col0\" class=\"data row0 col0\" >0.722</td>\n",
       "                        <td id=\"T_815c6026_f2b9_11e9_b152_50e549ebce80row0_col1\" class=\"data row0 col1\" >0.739</td>\n",
       "                        <td id=\"T_815c6026_f2b9_11e9_b152_50e549ebce80row0_col2\" class=\"data row0 col2\" >0.741</td>\n",
       "                        <td id=\"T_815c6026_f2b9_11e9_b152_50e549ebce80row0_col3\" class=\"data row0 col3\" >0.73</td>\n",
       "                        <td id=\"T_815c6026_f2b9_11e9_b152_50e549ebce80row0_col4\" class=\"data row0 col4\" >0.637</td>\n",
       "                        <td id=\"T_815c6026_f2b9_11e9_b152_50e549ebce80row0_col5\" class=\"data row0 col5\" >0.704</td>\n",
       "            </tr>\n",
       "    </tbody></table>"
      ],
      "text/plain": [
       "<pandas.io.formats.style.Styler at 0x122fa5f8>"
      ]
     },
     "execution_count": 10,
     "metadata": {},
     "output_type": "execute_result"
    }
   ],
   "source": [
    "#Creating a new dataset (ml_result) with the dictionary(model_dic) inside,transpose and highlight results of best/worst clasifier\n",
    "ml_result = pd.DataFrame.from_dict(model_dic, orient='index', columns=['Accuracy Score', 'prd'])\n",
    "ml_result.drop('prd',axis=1, inplace=True)\n",
    "ml_result = ml_result.T.round(3)\n",
    "ml_result.style.highlight_max(color='lightgreen', axis=1).highlight_min(color='#cd4f39', axis=1)"
   ]
  },
  {
   "cell_type": "code",
   "execution_count": 11,
   "metadata": {},
   "outputs": [
    {
     "data": {
      "image/png": "[encoded data removed]",
      "text/plain": [
       "<Figure size 684x432 with 1 Axes>"
      ]
     },
     "metadata": {
      "needs_background": "light"
     },
     "output_type": "display_data"
    }
   ],
   "source": [
    "best_model = max(model_dic.keys(), key=lambda k: model_dic[k])\n",
    "fpr, tpr, thresholds = roc_curve(y_test, model_dic[best_model][1])\n",
    "\n",
    "# plotting the FPR (false positive rate) vs the TPR (true positive rate) at various thresholds settings (ROC Curve)\n",
    "# for the best model\n",
    "\n",
    "fig, ax = plt.subplots(1, figsize=(9.5, 6))\n",
    "plt.plot(fpr, tpr, color='darkorange', label='Model Performace')\n",
    "plt.plot([0, 1], [0, 1], color='gray', label='Random Performace')\n",
    "plt.xlabel('False Positive Rate')\n",
    "plt.ylabel('True Positive Rate')\n",
    "plt.title(f'{symbol} model:{best_model} ROC Curve')\n",
    "plt.legend(loc=\"lower right\");"
   ]
  },
  {
   "cell_type": "markdown",
   "metadata": {},
   "source": [
    "## Feature importance"
   ]
  },
  {
   "cell_type": "code",
   "execution_count": 12,
   "metadata": {},
   "outputs": [
    {
     "data": {
      "text/plain": [
       "0.739247311827957"
      ]
     },
     "execution_count": 12,
     "metadata": {},
     "output_type": "execute_result"
    }
   ],
   "source": [
    "rf = RandomForestClassifier(n_estimators=50, max_depth=4).fit(X_train,y_train)\n",
    "rf.score(X_test, y_test)"
   ]
  },
  {
   "cell_type": "code",
   "execution_count": 13,
   "metadata": {},
   "outputs": [
    {
     "data": {
      "text/plain": [
       "[('lag_0', 0.6909693830264195),\n",
       " ('lag_1', 0.08889440168526258),\n",
       " ('lag_4', 0.0768198063336875),\n",
       " ('lag_2', 0.0725816599238798),\n",
       " ('lag_3', 0.07073474903075062)]"
      ]
     },
     "execution_count": 13,
     "metadata": {},
     "output_type": "execute_result"
    }
   ],
   "source": [
    "features_importens = list(zip(cols,rf.feature_importances_))\n",
    "features_importens.sort(key=lambda tup: tup[1], reverse=True)\n",
    "features_importens\n"
   ]
  },
  {
   "cell_type": "markdown",
   "metadata": {},
   "source": [
    "## K-fold cross-validation"
   ]
  },
  {
   "cell_type": "code",
   "execution_count": 14,
   "metadata": {},
   "outputs": [
    {
     "name": "stdout",
     "output_type": "stream",
     "text": [
      "CV mean: 0.709\n"
     ]
    },
    {
     "data": {
      "image/png": "[encoded data removed]",
      "text/plain": [
       "<Figure size 432x288 with 1 Axes>"
      ]
     },
     "metadata": {
      "needs_background": "light"
     },
     "output_type": "display_data"
    }
   ],
   "source": [
    "fold_pref = []\n",
    "\n",
    "kf = KFold(n_splits=10, shuffle=True)\n",
    "for train_index, test_index in kf.split(X):\n",
    "    X_train, X_test = X.iloc[train_index], X.iloc[test_index]\n",
    "    y_train, y_test = y.iloc[train_index], y.iloc[test_index]\n",
    "    clf = RandomForestClassifier(n_estimators=50, max_depth=4)\n",
    "    clf.fit(X_train, y_train)\n",
    "    y_pred = clf.predict(X_test)\n",
    "    acc_score = accuracy_score(y_test, y_pred)\n",
    "    fold_pref.append(acc_score)\n",
    "    \n",
    "plt.plot(fold_pref);\n",
    "plt.axhline(np.mean(fold_pref), color='r');\n",
    "print('CV mean:', np.round(np.mean(fold_pref),3))"
   ]
  }
 ],
 "metadata": {
  "kernelspec": {
   "display_name": "Python 3",
   "language": "python",
   "name": "python3"
  },
  "language_info": {
   "codemirror_mode": {
    "name": "ipython",
    "version": 3
   },
   "file_extension": ".py",
   "mimetype": "text/x-python",
   "name": "python",
   "nbconvert_exporter": "python",
   "pygments_lexer": "ipython3",
   "version": "3.7.3"
  }
 },
 "nbformat": 4,
 "nbformat_minor": 2
}
